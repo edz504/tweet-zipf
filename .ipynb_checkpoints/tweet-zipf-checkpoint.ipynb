{
 "metadata": {
  "name": "",
  "signature": "sha256:8c0ca051937aca3c0ef386fe95f5b3f0bcf8cf747cffdfb60596ec7a039fd260"
 },
 "nbformat": 3,
 "nbformat_minor": 0,
 "worksheets": [
  {
   "cells": [
    {
     "cell_type": "markdown",
     "metadata": {},
     "source": [
      "Twitter and Zipf's Law\n",
      "======================\n",
      "_Examining the application of Zipf's Law to Twitter_"
     ]
    },
    {
     "cell_type": "heading",
     "level": 2,
     "metadata": {},
     "source": [
      "Introduction"
     ]
    },
    {
     "cell_type": "markdown",
     "metadata": {},
     "source": [
      "[Zipf's Law](http://en.wikipedia.org/wiki/Zipf's_law) is an empiral formulation that says many types of data can be approximated with a Zipfian distribution.  This is commonly expressed as the idea that the frequency of any word in a corpus of natural language is inversely proportionally to its rank.   In its most general and informal form, it is most easily observed by plotting the frequency rank of a given word against the actual count of that word on a log-log scale.  The more linear this plot is, the stronger the adherence of the data to Zipf's Law.  \n",
      "\n",
      "  \n",
      "Zipf's Law is most easily recognizable in large corpora -- for example, those included in the NLTK Python package."
     ]
    },
    {
     "cell_type": "code",
     "collapsed": false,
     "input": [
      "import numpy as np\n",
      "import matplotlib.pyplot as plt\n",
      "import pylab as pl\n",
      "import nltk\n",
      "from nltk.probability import FreqDist\n",
      "import re, operator\n",
      "from nltk.corpus import brown, reuters, nps_chat\n",
      "\n",
      "def plotFdist(n, title=None, fdist=None):\n",
      "    fsort_tuple = sorted(fdist.items(), key=operator.itemgetter(1),\n",
      "        reverse=True)\n",
      "    freqs_np_vals = np.array([t[1] for t in fsort_tuple])[0:n]\n",
      "    freqs_np_words = np.array([t[0] for t in fsort_tuple])[0:n]\n",
      "    \n",
      "    pl.rcParams['figure.figsize'] = (20.0, 6.0)\n",
      "    width = .35\n",
      "    ind = np.arange(len(freqs_np_vals))\n",
      "    plt.title(title)\n",
      "    plt.bar(ind, freqs_np_vals)\n",
      "    plt.xticks(ind + width / 2, freqs_np_words, rotation='vertical')\n",
      "    plt.show()\n",
      "    \n",
      "def wordOnlyFDist(fdist):\n",
      "    # only leave letters (does the rest count as \"language\"? tricky)\n",
      "    word_only_keys = [k for k in fdist.keys() if re.search(r'^[a-zA-Z]+$',\n",
      "        k)]\n",
      "    return({ key : fdist[key] for key in word_only_keys })"
     ],
     "language": "python",
     "metadata": {},
     "outputs": [],
     "prompt_number": 1
    },
    {
     "cell_type": "code",
     "collapsed": false,
     "input": [
      "brown_fdist = FreqDist(w.lower() for w in brown.words())\n",
      "reut_fdist = FreqDist(w.lower() for w in reuters.words())\n",
      "nps_fdist = FreqDist(w.lower() for w in nps_chat.words())"
     ],
     "language": "python",
     "metadata": {},
     "outputs": [],
     "prompt_number": 2
    },
    {
     "cell_type": "code",
     "collapsed": false,
     "input": [
      "NUM_PLOT = 40\n",
      "%matplotlib inline\n",
      "plotFdist(n=NUM_PLOT, title='Brown Corpus',\n",
      "    fdist=wordOnlyFDist(brown_fdist))\n",
      "plotFdist(n=NUM_PLOT, title='Reuters Corpus', \n",
      "    fdist=wordOnlyFDist(reut_fdist))\n",
      "plotFdist(n=NUM_PLOT, title='nps_chat Corpus', \n",
      "    fdist=wordOnlyFDist(nps_fdist))"
     ],
     "language": "python",
     "metadata": {},
     "outputs": [],
     "prompt_number": 7
    },
    {
     "cell_type": "markdown",
     "metadata": {},
     "source": [
      "It loks like brown and reuters follow Zipf's quite well, whereas nps_chat maybe not as much.  We can quantify the adherence, with a simple linear regression on the log-log scale:"
     ]
    },
    {
     "cell_type": "code",
     "collapsed": false,
     "input": [
      "from scipy import stats\n",
      "\n",
      "def zipfFit(fdist, name, toPlot=False, pr=False, ret=True):\n",
      "    fsort_tuple = sorted(fdist.items(), key=operator.itemgetter(1),\n",
      "    reverse=True)\n",
      "    y_vals = np.array([t[1] for t in fsort_tuple])\n",
      "    x_vals = np.array(range(1, len(y_vals) + 1))\n",
      "    if toPlot:\n",
      "        plt.title(name)\n",
      "        pl.rcParams['figure.figsize'] = (5.0, 5.0)\n",
      "        plt.plot([np.log(x) for x in x_vals], \n",
      "            [np.log(y) for y in y_vals], 'ro')\n",
      "        plt.xlabel('log(rank)')\n",
      "        plt.ylabel('log(count)')\n",
      "        plt.show()\n",
      "    slope, intercept, r_value, p_value, std_err = stats.linregress(\n",
      "        np.log(x_vals.astype(float)),\n",
      "        np.log(y_vals.astype(float)))\n",
      "    if pr:\n",
      "        print \"log-log r-squared for \" + name + \":\", r_value**2\n",
      "    if ret:\n",
      "        return([slope, intercept, r_value**2])"
     ],
     "language": "python",
     "metadata": {},
     "outputs": [],
     "prompt_number": 4
    },
    {
     "cell_type": "code",
     "collapsed": false,
     "input": [
      "zipfFit(wordOnlyFDist(brown_fdist), 'brown', toPlot=True, pr=True, ret=False)"
     ],
     "language": "python",
     "metadata": {},
     "outputs": [
      {
       "metadata": {},
       "output_type": "display_data",
       "png": "[encoded data removed]",
       "text": [
        "<matplotlib.figure.Figure at 0x17ffba58>"
       ]
      },
      {
       "output_type": "stream",
       "stream": "stdout",
       "text": [
        "log-log r-squared for brown: 0.971412066095\n"
       ]
      }
     ],
     "prompt_number": 6
    },
    {
     "cell_type": "code",
     "collapsed": false,
     "input": [
      "zipfFit(wordOnlyFDist(reut_fdist), 'reuters', pr=True, ret=False)\n",
      "zipfFit(wordOnlyFDist(nps_fdist), 'nps_chat', pr=True, ret=False)"
     ],
     "language": "python",
     "metadata": {},
     "outputs": [
      {
       "output_type": "stream",
       "stream": "stdout",
       "text": [
        "log-log r-squared for reuters: 0.977601127158\n",
        "log-log r-squared for nps_chat: 0.961693866368\n"
       ]
      }
     ],
     "prompt_number": 7
    },
    {
     "cell_type": "markdown",
     "metadata": {},
     "source": [
      "The corpora used here are standard natural language collections, so their adherence to Zipf's Law is nothing new.  The questions we want to ask include the following:  \n",
      "* Does a single user's collection of tweets follow Zipf's Law (perhaps that user has his/her own \"language\")?  What makes certain users follow Zipf's Law more than others?\n",
      "* Does a geographically grouped collection of tweets follow Zipf's Law (local lingo?)\n",
      "* How can we compare a user's personal \"language\" to different dialects of English? Could we try \"translating\" a text in English to a user's own personal language based on word counts?\n",
      "\n",
      "Luckily, Twitter provides a RESTful API that allows us to access (in a limited fashion) Twitter users and their tweets."
     ]
    },
    {
     "cell_type": "heading",
     "level": 2,
     "metadata": {},
     "source": [
      "Setting up the Twitter API"
     ]
    },
    {
     "cell_type": "markdown",
     "metadata": {},
     "source": [
      "We'll be working with the [twitter Python package](https://pypi.python.org/pypi/twitter), which enables us to access the [Twitter API](https://dev.twitter.com/docs) after obtaining proper authorization from [creating a new Twitter application](https://apps.twitter.com/).  Extracting the consumer key, consumer secret, access token key, and access token secret (whatever each of those means) into a text document keeps our code is viewable without giving everyone access to our Twitter account.  `twitter_api.txt` simply has each authentication item on a separate line.  Then, we can do the following:"
     ]
    },
    {
     "cell_type": "code",
     "collapsed": false,
     "input": [
      "import twitter\n",
      "mine = [s.strip() for s in open('twitter_api.txt', 'rb').readlines()]\n",
      "twitter_api = twitter.Api(\n",
      "    consumer_key=mine[0],\n",
      "    consumer_secret=mine[1],\n",
      "    access_token_key=mine[2],\n",
      "    access_token_secret=mine[3])"
     ],
     "language": "python",
     "metadata": {},
     "outputs": [],
     "prompt_number": 8
    },
    {
     "cell_type": "markdown",
     "metadata": {},
     "source": [
      "We can use the API to pull out users:"
     ]
    },
    {
     "cell_type": "code",
     "collapsed": false,
     "input": [
      "snames = ['edz504', 'perezhilton']\n",
      "users = twitter_api.UsersLookup(screen_name = snames)\n",
      "[u.statuses_count for u in users]"
     ],
     "language": "python",
     "metadata": {},
     "outputs": [
      {
       "metadata": {},
       "output_type": "pyout",
       "prompt_number": 9,
       "text": [
        "[815, 219537]"
       ]
      }
     ],
     "prompt_number": 9
    },
    {
     "cell_type": "markdown",
     "metadata": {},
     "source": [
      "and pull out a maximum of 200 tweets (per request) from a given user's timeline:"
     ]
    },
    {
     "cell_type": "code",
     "collapsed": false,
     "input": [
      "this_user_tweets = twitter_api.GetUserTimeline(screen_name='perezhilton', count=200)"
     ],
     "language": "python",
     "metadata": {},
     "outputs": [],
     "prompt_number": 10
    },
    {
     "cell_type": "heading",
     "level": 2,
     "metadata": {},
     "source": [
      "Retrieving and Cleaning Tweets"
     ]
    },
    {
     "cell_type": "markdown",
     "metadata": {},
     "source": [
      "We can pull out up to about 3200 tweets from a given user by repeatedly specifiying a `max_id` parameter.  This method roughly pulls in 200 per request, but Twitter does not fill holes in status ids, so if a user has deleted tweets, a given request may only turn up 195 tweets or similar (print commented out):"
     ]
    },
    {
     "cell_type": "code",
     "collapsed": false,
     "input": [
      "def getUserTweets(u):\n",
      "    if (u.statuses_count < 1 or u.protected): # don't bother going through if we know the user doesn't have any tweets\n",
      "        # or if they're protected\n",
      "        return([])\n",
      "    else:\n",
      "        user_tweets = []\n",
      "        keep_em_coming = True\n",
      "\n",
      "        while (keep_em_coming):\n",
      "            # for our first time, no max_id\n",
      "            if len(user_tweets) == 0:\n",
      "                this_user_tweets = twitter_api.GetUserTimeline(\n",
      "                    screen_name=u.screen_name,\n",
      "                    count=200)\n",
      "            else:\n",
      "                this_user_tweets = twitter_api.GetUserTimeline(\n",
      "                    screen_name=u.screen_name,\n",
      "                    count=200,\n",
      "                    max_id=oldest_id)\n",
      "            # print 'Pulled in ' + str(len(this_user_tweets)) + ' new tweets'\n",
      "            if len(this_user_tweets) <= 1:\n",
      "                keep_em_coming = False\n",
      "            else:\n",
      "                oldest_id = min([t.id for t in this_user_tweets])\n",
      "            user_tweets += this_user_tweets\n",
      "        return(user_tweets)"
     ],
     "language": "python",
     "metadata": {},
     "outputs": [],
     "prompt_number": 11
    },
    {
     "cell_type": "markdown",
     "metadata": {},
     "source": [
      "Each status object has a `.text` field that has the data we want.  Since we'll be forming corpora from a set of tweets, and analyzing word frequencies from those corpora, we'll want to clean the tweets.  The method of cleaning we employ here is slightly arbitrary -- since we don't believe screen names count as words, we filter those out:"
     ]
    },
    {
     "cell_type": "code",
     "collapsed": false,
     "input": [
      "import re\n",
      "\n",
      "def remove_sn(t):\n",
      "    rep = 0\n",
      "    ats_cleaned = True\n",
      "    if ('@' in t):\n",
      "        ats_cleaned = False\n",
      "    while(not ats_cleaned):\n",
      "        at_ind_start = t.index('@')\n",
      "        # any non-screen-name-enabled character\n",
      "        # so if the tweet is \"...@Beyonce:blahhh \"\n",
      "        # then we leave blahhh in the string too\n",
      "        m = re.search(r'\\W', t[at_ind_start + 1:])\n",
      "        if m:\n",
      "            at_ind_end = at_ind_start + m.start()\n",
      "        else:\n",
      "            at_ind_end = at_ind_start + len(t[at_ind_start:])\n",
      "        t = t[:at_ind_start] + t[at_ind_end + 1:]\n",
      "        if (not '@' in t):\n",
      "            ats_cleaned = True\n",
      "        if (rep > 140):\n",
      "            print 'Reached' + str(rep) + ' repetitions for the string:'\n",
      "            print t\n",
      "            print 'at index ' + rep + 'breaking'\n",
      "            break\n",
      "        rep += 1\n",
      "    return(t)"
     ],
     "language": "python",
     "metadata": {},
     "outputs": [],
     "prompt_number": 12
    },
    {
     "cell_type": "markdown",
     "metadata": {},
     "source": [
      "We also filter our URLs and all punctuation (excluding apostrophes and dashes).  Note that this takes out the pound sign in a hashtag, leaving the actual content of the hashtag -- we're making the judgement call to keep that as a word."
     ]
    },
    {
     "cell_type": "code",
     "collapsed": false,
     "input": [
      "def remove_urls(t):\n",
      "    urls = re.findall(r'http[s]?://(?:[a-zA-Z]|[0-9]|[$-_@.&+]|[!*\\(\\),]|(?:%[0-9a-fA-F][0-9a-fA-F]))+', t)\n",
      "    for url in urls:\n",
      "        t = re.sub(re.escape(url), '', t)\n",
      "    return(t)\n",
      "    \n",
      "def leave_alphanumeric(t):\n",
      "    return re.sub(r'(?! )(?!-)(?!\\')\\W', '', t)"
     ],
     "language": "python",
     "metadata": {},
     "outputs": [],
     "prompt_number": 13
    },
    {
     "cell_type": "markdown",
     "metadata": {},
     "source": [
      "Now we want to use the [nltk](http://www.nltk.org/) package to tokenize and assemble a frequency dictionary from a set of tweets."
     ]
    },
    {
     "cell_type": "code",
     "collapsed": false,
     "input": [
      "import nltk\n",
      "\n",
      "# supply either a screen name, or a list of tweets\n",
      "def getUserTweetWordFreqDist(u, user_tweets=None):\n",
      "    if user_tweets is None:\n",
      "        user_tweets = getUserTweets(u)\n",
      "    user_tweets_str = [t.text.encode('utf-8') for t in user_tweets]\n",
      "    user_tweets_clean1 = [remove_sn(t_str1) for t_str1 in user_tweets_str]\n",
      "    user_tweets_clean2 = [remove_urls(t_str2) for t_str2 in user_tweets_clean1]\n",
      "    user_tweets_clean3 = [leave_alphanumeric(t_str3) for t_str3 in user_tweets_clean2]\n",
      "    user_tweets_collapse = ''.join(user_tweets_clean3)\n",
      "    user_tweets_tokens = nltk.word_tokenize(user_tweets_collapse)\n",
      "\n",
      "    fdist = FreqDist(word.lower() for word in user_tweets_tokens)\n",
      "    return(fdist)"
     ],
     "language": "python",
     "metadata": {},
     "outputs": [],
     "prompt_number": 14
    },
    {
     "cell_type": "markdown",
     "metadata": {},
     "source": [
      "Aggregating \"Random\" Users\n",
      "--------------------------"
     ]
    },
    {
     "cell_type": "markdown",
     "metadata": {},
     "source": [
      "The first question we want to answer is if individual users have their own \"language\" -- specifically, whether or not their language adheres to Zipf's Law.  That is, we want to know if assembling their tweets into a corpus and doing frequency analysis results in any level of adherence to Zipf's Law.  Before we can do this, we have to assemble a set of users.  \n",
      "  \n",
      "Since Twitter users can be queried by a `user_id`, which is always some integer, we use the `UsersLookup` call from the Twitter API and random integers to aggregate a set of users.  Twitter has made it clear that their system of `user_id`'s is not uniform -- people have reported consecutive `user_id`'s in a row for a certain integer range, and jumps of 10 in a different range.  For now, we simply use `randint` to obtain some random integer between 1 and `sys.maxint` and see if it matches to a user.  Note we're also storing a list of users using Python's pickle package."
     ]
    },
    {
     "cell_type": "code",
     "collapsed": false,
     "input": [
      "import pickle\n",
      "\n",
      "while (len(users) < 10000):\n",
      "    uids = [randint(1, sys.maxint) for i in range(1, 100)]\n",
      "    try:\n",
      "        these_users = twitter_api.UsersLookup(user_id=uids)\n",
      "    except Exception, e:\n",
      "        d = ast.literal_eval(str(e))[0]\n",
      "        error_code = d['code']\n",
      "        if (error_code == 88):\n",
      "            print d['message']\n",
      "            rl_stat = twitter_api.GetRateLimitStatus()\n",
      "            user_lookup_stat = rl_stat['resources']['users']['/users/lookup']\n",
      "            remaining = user_lookup_stat['remaining']\n",
      "            epoch_time = user_lookup_stat['reset']\n",
      "            dt_reset = datetime.datetime.fromtimestamp(epoch_time\n",
      "                ).strftime('%Y-%m-%d %H:%M:%S')\n",
      "            print str(remaining) + ' tweets left.  Try again at ' + str(dt_reset)\n",
      "            break\n",
      "        else:\n",
      "            print 'Error: ' + d['message']\n",
      "            continue\n",
      "    users += these_users\n",
      "    print(len(users))\n",
      "pickle.dump(users, open('users1.p', 'wb'))"
     ],
     "language": "python",
     "metadata": {},
     "outputs": [],
     "prompt_number": 2
    },
    {
     "cell_type": "markdown",
     "metadata": {},
     "source": [
      "Note the use of rate limiting -- Twitter only allows for a certain number of requests for a given call in a given 15 minute window.  Since we are not aggregating a massive number of users (for now), we'll leave off on automating a 15-minute rest and retry implementation for later.\n",
      "\n",
      "Zipfian Fits by User\n",
      "--------------------\n",
      "Let's see how we might visualize a user's \"corpus\" similar to how we visualized the NLTK corpora."
     ]
    },
    {
     "cell_type": "code",
     "collapsed": false,
     "input": [
      "def plotUserTopNWords(n, u=None, title=None, fdist=None):\n",
      "    if title is None and (u is not None):\n",
      "        title = u.screen_name\n",
      "    if fdist is None and (u is not None):\n",
      "        print 'Getting tweets for ' + u.screen_name\n",
      "        fdist = getUserTweetWordFreqDist(u)\n",
      "    fsort_tuple = sorted(fdist.items(), key=operator.itemgetter(1),\n",
      "        reverse=True)\n",
      "    freqs_np_vals = np.array([t[1] for t in fsort_tuple])[0:n]\n",
      "    freqs_np_words = np.array([t[0] for t in fsort_tuple])[0:n]\n",
      "    width = .35\n",
      "    ind = np.arange(len(freqs_np_vals))\n",
      "    plt.title(title)\n",
      "    plt.bar(ind, freqs_np_vals)\n",
      "    plt.xticks(ind + width / 2, freqs_np_words, rotation='vertical')\n",
      "    pl.rcParams['figure.figsize'] = (20.0, 6.0)\n",
      "    plt.show()"
     ],
     "language": "python",
     "metadata": {},
     "outputs": [],
     "prompt_number": 16
    },
    {
     "cell_type": "code",
     "collapsed": false,
     "input": [
      "ph = twitter_api.GetUser(screen_name='perezhilton')\n",
      "NUM_PLOT = 60\n",
      "plotUserTopNWords(u=ph,\n",
      "    n=NUM_PLOT)"
     ],
     "language": "python",
     "metadata": {},
     "outputs": [
      {
       "output_type": "stream",
       "stream": "stdout",
       "text": [
        "Getting tweets for PerezHilton\n"
       ]
      },
      {
       "metadata": {},
       "output_type": "display_data",
       "png": "[encoded data removed]",
       "text": [
        "<matplotlib.figure.Figure at 0x18a8e160>"
       ]
      }
     ],
     "prompt_number": 18
    },
    {
     "cell_type": "markdown",
     "metadata": {},
     "source": [
      "We can also apply the quantitative measure of Zipfian adherence (as we did for the other corpora):"
     ]
    },
    {
     "cell_type": "code",
     "collapsed": false,
     "input": [
      "fdist = getUserTweetWordFreqDist(ph)\n",
      "zipfFit(wordOnlyFDist(fdist), ph.screen_name, toPlot=True, pr=True, ret=False)"
     ],
     "language": "python",
     "metadata": {},
     "outputs": [
      {
       "metadata": {},
       "output_type": "display_data",
       "png": "[encoded data removed]",
       "text": [
        "<matplotlib.figure.Figure at 0x18823518>"
       ]
      },
      {
       "output_type": "stream",
       "stream": "stdout",
       "text": [
        "log-log r-squared for PerezHilton: 0.96995519775\n"
       ]
      }
     ],
     "prompt_number": 20
    },
    {
     "cell_type": "markdown",
     "metadata": {},
     "source": [
      "For those that are wondering, my go-to user is Perez Hilton not because we condone anything that comes from that Twitter account, but that we're sure to hit the API-imposed max of around 3200 tweets when we pull from his account -- some quick research shows that he has one of the highest `.statuses_count`'s in Twitter's userbase.  \n",
      "  \n",
      "Now, we can go through all of the users that we aggregated in the previous section and apply a Zipfian fit.  To leave us an open door for analysis, our pandas dataframe will also include various information about each user (one row = data for one user) that might provide insight as to why certain users' \"languages\" adhere to Zipf's more or less."
     ]
    },
    {
     "cell_type": "code",
     "collapsed": false,
     "input": [
      "import pandas as pd\n",
      "\n",
      "users = pickle.load(open('users1.p', 'rb'))\n",
      "\n",
      "# we only want users that have tweeted at least X times\n",
      "NUM_TWEET_CUTOFF = 1\n",
      "lang_users = [u for u in users if u.statuses_count > NUM_TWEET_CUTOFF]\n",
      "# also, filter out protected peeps\n",
      "end_users = [u for u in lang_users if not u.protected]\n",
      "col = [\n",
      "    'num_fit', 'r_squared', 'slope', 'intercept', 'statuses_count', \n",
      "    'followers_count', 'following_count', 'age_days',\n",
      "    'favourites_count', 'location', 'verified'\n",
      "]\n",
      "df = pd.DataFrame(index=[u.screen_name for u in end_users],\n",
      "    columns=col)\n",
      "df['statuses_count'] = [u.statuses_count for u in end_users]\n",
      "df['followers_count'] = [u.followers_count for u in end_users]\n",
      "df['following_count'] = [u.friends_count for u in end_users]\n",
      "df['favourites_count'] = [u.favourites_count for u in end_users]\n",
      "df['location'] = [u.location for u in end_users]\n",
      "df['verified'] = [u.verified for u in end_users]"
     ],
     "language": "python",
     "metadata": {},
     "outputs": [],
     "prompt_number": 11
    },
    {
     "cell_type": "markdown",
     "metadata": {},
     "source": [
      "Another column that requires some more though is the age (in days).  We can calculate this using `pytz` and an epoch that we look up.  A [news article](http://www.usatoday.com/story/tech/2014/03/20/twitter-eighth-birthday-first-tweet/6646493/) says that March 21st, 2006 is the date of the oldest tweet."
     ]
    },
    {
     "cell_type": "code",
     "collapsed": false,
     "input": [
      "import pytz\n",
      "epoch = parser.parse(\"Mar 21 2006 13:33:00\").replace(tzinfo=pytz.UTC)\n",
      "df['age_days'] = [(parser.parse(u.created_at) - epoch).days for u in end_users]"
     ],
     "language": "python",
     "metadata": {},
     "outputs": [],
     "prompt_number": 22
    },
    {
     "cell_type": "markdown",
     "metadata": {},
     "source": [
      "Now, we can cycle through our users and apply a Zipfian fit on each of them.  Since we would be making up to 16 requests per user (~200 in a request, ~3200 max) and we want to go through all of the users in our `end_users` list, now is a good time to implement a rest-and-retry exception catch."
     ]
    },
    {
     "cell_type": "code",
     "collapsed": false,
     "input": [
      "i = 0\n",
      "STOPPED = i\n",
      "\n",
      "for u in end_users[STOPPED:]:\n",
      "    # get as many tweets as possible for that user, assembling the tweets \n",
      "    # into a corpus, clean and create an fdist\n",
      "    try:\n",
      "        # the getUserTweetWordFreqDist can retrieve the tweets on its own,\n",
      "        # but we also want to see how many tweets we use for the fit\n",
      "        tweets = tweet_retriever.getUserTweets(u)\n",
      "        fdist = tweet_retriever.getUserTweetWordFreqDist(u, tweets)\n",
      "    except Exception, e:\n",
      "        d = ast.literal_eval(str(e))[0]\n",
      "        error_code = d['code']\n",
      "        if (error_code == 88):\n",
      "            print d['message']\n",
      "        print 'Currently, u = ' + u.screen_name + ', i = ' + str(i)\n",
      "        STOPPED = i\n",
      "        # break\n",
      "        pickle.dump([STOPPED, df], open('zipf_fit_df.p', 'wb')) # save to pickle\n",
      "        print 'Pausing for 15 minutes...'\n",
      "        time.sleep(5 * 60)\n",
      "        print '.'\n",
      "        time.sleep(5 * 60)\n",
      "        print '.'\n",
      "        time.sleep(5 * 60)\n",
      "        print 'Re-finding tweets'\n",
      "        tweets = tweet_retriever.getUserTweets(u)\n",
      "        fdist = tweet_retriever.getUserTweetWordFreqDist(u, tweets)\n",
      "    fdist_wordsOnly = wordOnlyFDist(fdist)\n",
      "    # fit the fdist to Zipf's\n",
      "    slope, intercept, r_squared = zipfFit(fdist_wordsOnly, \n",
      "        u.screen_name)\n",
      "    # record stats\n",
      "    df['num_fit'][i] = len(set(tweets))\n",
      "    df['r_squared'][i] = r_squared\n",
      "    df['slope'][i] = slope\n",
      "    df['intercept'][i] = intercept\n",
      "    i += 1\n",
      "    print 'Finished <' + u.screen_name + '>'"
     ],
     "language": "python",
     "metadata": {},
     "outputs": [],
     "prompt_number": 23
    },
    {
     "cell_type": "markdown",
     "metadata": {},
     "source": [
      "This process isn't fully automated -- for some reason, even when a user is not protected and has more than 1 tweet, we still get an authorization error, or sometimes, and HttpRequest error because we could not establish the connection to Twitter.   The process of fitting has taken several days due to the unclear authorization and other errors (\"Page doesn't exist\" despite the user existing), and despite our best attempts to automate the whole process.  \n",
      "  \n",
      "Which Users Fit Zipf's?\n",
      "-----------------------\n",
      "When we finish fitting all of the users, we can apply some analysis to the results.  First, a brief look with `head()` and `describe()`"
     ]
    },
    {
     "cell_type": "code",
     "collapsed": false,
     "input": [
      "import pickle\n",
      "[STOPPED, df] = pickle.load(open('zipf_fit_df.p', 'rb'))\n",
      "print df.head()"
     ],
     "language": "python",
     "metadata": {},
     "outputs": [
      {
       "output_type": "stream",
       "stream": "stdout",
       "text": [
        "               num_fit  r_squared      slope intercept  statuses_count  followers_count  following_count  age_days  favourites_count          location verified\n",
        "JimLeavy1          137  0.9197579 -0.6354987   3.81751             136                9              200      2298                 4                      False\n",
        "Echelljoyot       3188  0.9393774 -0.8778004  6.569782           55247             1138              736      2493             15938  Ukraine. Donetsk    False\n",
        "gonzaga_ariane     263  0.8952295 -0.6966629  4.406337             268              185              870      2565               395      *-Curitiba-*    False\n",
        "man_chester          8          0          0         0               7                1                2      1546                 0                      False\n",
        "woanerjez            7  0.8262034 -0.4565467  1.289251               6                0               22      2735                 9                      False\n"
       ]
      }
     ],
     "prompt_number": 18
    },
    {
     "cell_type": "markdown",
     "metadata": {},
     "source": [
      "We should check how Pandas stored our columns to make sure we can describe and later operate on them -- to use `describe()` we can't have strings or objects."
     ]
    },
    {
     "cell_type": "code",
     "collapsed": false,
     "input": [
      "print df.dtypes"
     ],
     "language": "python",
     "metadata": {},
     "outputs": [
      {
       "output_type": "stream",
       "stream": "stdout",
       "text": [
        "num_fit             object\n",
        "r_squared           object\n",
        "slope               object\n",
        "intercept           object\n",
        "statuses_count       int64\n",
        "followers_count      int64\n",
        "following_count      int64\n",
        "age_days             int64\n",
        "favourites_count     int64\n",
        "location            object\n",
        "verified              bool\n",
        "dtype: object\n"
       ]
      }
     ],
     "prompt_number": 4
    },
    {
     "cell_type": "code",
     "collapsed": false,
     "input": [
      "print df.drop('location', axis=1).astype(float).describe()"
     ],
     "language": "python",
     "metadata": {},
     "outputs": [
      {
       "output_type": "stream",
       "stream": "stdout",
       "text": [
        "           num_fit    r_squared        slope    intercept  statuses_count  \\\n",
        "count  4120.000000  3943.000000  3811.000000  3811.000000     4132.000000   \n",
        "mean    385.114320     0.734823    -0.567406     2.756537      982.038238   \n",
        "std     860.222534     0.260034     0.357300     2.158494     4588.124964   \n",
        "min       0.000000     0.000000    -4.857981     0.000000        2.000000   \n",
        "25%       5.000000     0.698197    -0.730870     1.142783        4.000000   \n",
        "50%      19.000000     0.830437    -0.524251     2.031523       19.000000   \n",
        "75%     169.250000     0.896254    -0.372172     3.931391      173.250000   \n",
        "max    3266.000000     1.000000     0.000000    11.372158    84261.000000   \n",
        "\n",
        "       followers_count  following_count     age_days  favourites_count  \\\n",
        "count      4132.000000      4132.000000  4132.000000       4132.000000   \n",
        "mean        333.686834       142.001210  2090.954985        139.371491   \n",
        "std       14081.129429       412.433629   473.486975       1082.088202   \n",
        "min           0.000000         0.000000   400.000000          0.000000   \n",
        "25%           2.000000         8.000000  1775.000000          0.000000   \n",
        "50%          10.000000        33.000000  2170.500000          0.000000   \n",
        "75%          51.000000       137.000000  2482.000000          5.000000   \n",
        "max      903711.000000     17974.000000  2771.000000      42174.000000   \n",
        "\n",
        "          verified  \n",
        "count  4132.000000  \n",
        "mean      0.000726  \n",
        "std       0.026939  \n",
        "min       0.000000  \n",
        "25%       0.000000  \n",
        "50%       0.000000  \n",
        "75%       0.000000  \n",
        "max       1.000000  \n"
       ]
      }
     ],
     "prompt_number": 5
    },
    {
     "cell_type": "markdown",
     "metadata": {},
     "source": [
      "Looking at our summary here, it's clear that there are some `r_squared` values that are very good.  Apparently, some users' tweet-corpora adhere to Zipf's Law even better than the Brown and Reuters corpus -- this partially answers our first question.  The next question to ask now is why do some users adhere better to Zipf's Law?  We can visualize this by plotting one of our features against the associated `r_squared` values."
     ]
    },
    {
     "cell_type": "code",
     "collapsed": false,
     "input": [
      "from ggplot import *\n",
      "print ggplot(df, aes(x='followers_count', y='r_squared')) + geom_point()"
     ],
     "language": "python",
     "metadata": {},
     "outputs": [
      {
       "metadata": {},
       "output_type": "display_data",
       "png": "[encoded data removed]",
       "text": [
        "<matplotlib.figure.Figure at 0x15df3da0>"
       ]
      },
      {
       "output_type": "stream",
       "stream": "stdout",
       "text": [
        "<ggplot: (22934518)>\n"
       ]
      }
     ],
     "prompt_number": 14
    },
    {
     "cell_type": "markdown",
     "metadata": {},
     "source": [
      "That's not too helpful because of the one user with almost a million followers.  For visualization purposes, let's see what this plot looks like without that point (and note that that user has a very tight adherence to Zipf's Law)."
     ]
    },
    {
     "cell_type": "code",
     "collapsed": false,
     "input": [
      "df_vis = df_clean.loc[df_clean.index != df['followers_count'].argmax()]\n",
      "print ggplot(df_vis, aes(x='followers_count', y='r_squared')) + geom_point()"
     ],
     "language": "python",
     "metadata": {},
     "outputs": [
      {
       "metadata": {},
       "output_type": "display_data",
       "png": "[encoded data removed]",
       "text": [
        "<matplotlib.figure.Figure at 0x15d9f358>"
       ]
      },
      {
       "output_type": "stream",
       "stream": "stdout",
       "text": [
        "<ggplot: (22938165)>\n"
       ]
      }
     ],
     "prompt_number": 16
    },
    {
     "cell_type": "markdown",
     "metadata": {},
     "source": [
      "The plot is a little more spread out, although there are an unfortunately large number of users with very few followers.  As a side observation, though, we see that there are no users with more than 2500 followers whose Zipf-adherence is less than 0.75.  This suggests that users with more followers are more likely to have a more \"natural\" language.  This might be because there must be a reason users have more followers -- they embody some idea or show some sort of pattern that people (or a select subset of people) are drawn to, and so that may manifest as a \"natural\" language."
     ]
    },
    {
     "cell_type": "markdown",
     "metadata": {},
     "source": [
      "To quantify the question \"What features can help us potentially **classify** users into those that do exhibit a language that may be natural, and those that do not?\" we can define a cut-off value for the `r_squared` where users above the cut count as \"good fits\" and those below do not.  Pulling from our previous corpora fits, we set this value to 0.95 (note: this is by no means an empirically derived number -- labeling particular ranges of R-squared values as \"good\" is never very valid, so we base our judgement on the R-squared returned by the existing corpora that we expect to follow Zipf's)."
     ]
    },
    {
     "cell_type": "code",
     "collapsed": false,
     "input": [
      "ZCUT = 0.95\n",
      "df_fit = df[df.r_squared >= ZCUT]\n",
      "df_nfit = df[df.r_squared < ZCUT]"
     ],
     "language": "python",
     "metadata": {},
     "outputs": [],
     "prompt_number": 6
    },
    {
     "cell_type": "code",
     "collapsed": false,
     "input": [
      "print df_fit.describe()\n",
      "print df_nfit.describe()"
     ],
     "language": "python",
     "metadata": {},
     "outputs": [
      {
       "output_type": "stream",
       "stream": "stdout",
       "text": [
        "       statuses_count  followers_count  following_count     age_days  \\\n",
        "count      128.000000       128.000000       128.000000   128.000000   \n",
        "mean      4596.593750       590.039062       353.109375  1972.804688   \n",
        "std      10871.236237      1597.949052       641.088189   562.265833   \n",
        "min          2.000000         0.000000         0.000000   629.000000   \n",
        "25%         71.000000         6.000000        16.000000  1519.000000   \n",
        "50%        869.000000       103.000000       106.000000  2065.500000   \n",
        "75%       3521.750000       355.250000       375.250000  2450.000000   \n",
        "max      69048.000000     13706.000000      4759.000000  2767.000000   \n",
        "\n",
        "       favourites_count   verified  \n",
        "count        128.000000        128  \n",
        "mean         835.171875   0.015625  \n",
        "std         4216.005019  0.1245069  \n",
        "min            0.000000      False  \n",
        "25%            0.000000          0  \n",
        "50%            2.500000          0  \n",
        "75%           46.000000          0  \n",
        "max        42174.000000       True  \n",
        "       statuses_count  followers_count  following_count     age_days  \\\n",
        "count     3815.000000      3815.000000      3815.000000  3815.000000   \n",
        "mean       892.432241       340.167497       138.144954  2085.202621   \n",
        "std       4225.360962     14651.427306       404.261293   472.397585   \n",
        "min          2.000000         0.000000         0.000000   400.000000   \n",
        "25%          5.000000         2.000000         9.000000  1765.500000   \n",
        "50%         19.000000        10.000000        35.000000  2166.000000   \n",
        "75%        163.500000        50.000000       141.000000  2475.000000   \n",
        "max      84261.000000    903711.000000     17974.000000  2771.000000   \n",
        "\n",
        "       favourites_count      verified  \n",
        "count       3815.000000          3815  \n",
        "mean         122.008650  0.0002621232  \n",
        "std          810.904964    0.01619022  \n",
        "min            0.000000         False  \n",
        "25%            0.000000             0  \n",
        "50%            0.000000             0  \n",
        "75%            5.000000             0  \n",
        "max        21662.000000          True  \n"
       ]
      }
     ],
     "prompt_number": 7
    },
    {
     "cell_type": "markdown",
     "metadata": {},
     "source": [
      "Just from looking at these two summaries, we think that certain features we collected might be useful in showing why some users fit Zipf's better -- those who fit well, for example, have a significantly higher `favourites_count`, and a `followers_count` (as seen earlier in the visualization).  To quantify how important these features are, we can build a classifier.  Note that this is slightly unintuitive, because in general we build a supervised classifier to classify new data, whereas the motivation here is to see how the various machine learning algorithms weight the different features in the classification.  This isn't necessarily to say that we cannot classify new data (users) into \"fits Zipf's\" vs. \"does not fit Zipf's\", it's simply less meaningful because our true labels are defined by the limit we set at `ZCUT`."
     ]
    },
    {
     "cell_type": "code",
     "collapsed": false,
     "input": [
      "X = df_clean.drop(['r_squared', 'slope', 'intercept'], axis=1)\n",
      "y = df_clean.r_squared >= ZCUT"
     ],
     "language": "python",
     "metadata": {},
     "outputs": [],
     "prompt_number": 14
    },
    {
     "cell_type": "markdown",
     "metadata": {},
     "source": [
      "After setting up the `X` and `y` dataframes/arrays, we can use Python's `scikit-learn` package to do a straightforward logistic regression.  We print the training accuracy to make sure that the classifier is valid (we can verify with new testing data later), and then print the coefficients that the classifier finished with."
     ]
    },
    {
     "cell_type": "code",
     "collapsed": false,
     "input": [
      "from sklearn import linear_model\n",
      "est = linear_model.LogisticRegression()\n",
      "est.fit(X, y)\n",
      "\n",
      "train_pred = est.predict(X)\n",
      "train_error = sum(train_pred ^ y) / float(len(y))\n",
      "\n",
      "print 'Training Accuracy: ' + str(1 - train_error)\n",
      "weights = pd.DataFrame(index=X.columns)\n",
      "weights['val'] = est.coef_[0]\n",
      "print weights"
     ],
     "language": "python",
     "metadata": {},
     "outputs": [
      {
       "output_type": "stream",
       "stream": "stdout",
       "text": [
        "Training Accuracy: 0.966675413277\n",
        "                       val\n",
        "num_fit           0.000632\n",
        "statuses_count   -0.000003\n",
        "followers_count  -0.000002\n",
        "following_count   0.000074\n",
        "age_days         -0.000511\n",
        "favourites_count  0.000058\n"
       ]
      }
     ],
     "prompt_number": 16
    },
    {
     "cell_type": "code",
     "collapsed": false,
     "input": [],
     "language": "python",
     "metadata": {},
     "outputs": []
    }
   ],
   "metadata": {}
  }
 ]
}