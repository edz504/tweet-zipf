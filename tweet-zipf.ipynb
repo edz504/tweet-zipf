{
 "metadata": {
  "name": "",
  "signature": "sha256:85f8a0234ac9bdd3d683bd03095c7cfea13bdce4a52208c873cd88513ff226e0"
 },
 "nbformat": 3,
 "nbformat_minor": 0,
 "worksheets": [
  {
   "cells": [
    {
     "cell_type": "heading",
     "level": 1,
     "metadata": {},
     "source": [
      "Setting up the Twitter API"
     ]
    },
    {
     "cell_type": "markdown",
     "metadata": {},
     "source": [
      "We'll be working with the [twitter Python package](\"https://pypi.python.org/pypi/twitter\"), which enables us to access the [Twitter API](\"https://dev.twitter.com/docs\") after obtaining proper authorization from [creating a new Twitter application](\"https://apps.twitter.com/\"). "
     ]
    },
    {
     "cell_type": "code",
     "collapsed": false,
     "input": [],
     "language": "python",
     "metadata": {},
     "outputs": []
    }
   ],
   "metadata": {}
  }
 ]
}